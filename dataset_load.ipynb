{
 "cells": [
  {
   "cell_type": "code",
   "execution_count": 1,
   "id": "detailed-portland",
   "metadata": {},
   "outputs": [],
   "source": [
    "import numpy as np\n",
    "import matplotlib.pyplot as plt\n",
    "import os\n",
    "import cv2\n",
    "import random\n",
    "import pickle\n",
    "\n",
    "DATADIR = \"C:\\Datasets\\simpdata_labeled\"\n",
    "CATEGORIES = [\"flybuss\",\"neptuntaxi\", \"trondertaxi\"]\n",
    "IMG_SIZE = 60\n",
    "\n",
    "def create_training_data():\n",
    "    training_data = []\n",
    "    for category in CATEGORIES:\n",
    "        path = os.path.join(DATADIR, category)\n",
    "        category_num = CATEGORIES.index(category) \n",
    "        for img in os.listdir(path):\n",
    "            try: \n",
    "                img_array = cv2.imread(os.path.join(path, img), cv2.IMREAD_GRAYSCALE)\n",
    "                new_array = cv2.resize(img_array, (IMG_SIZE, IMG_SIZE))\n",
    "                training_data.append([new_array, category_num])\n",
    "            except Exception as e:\n",
    "                pass\n",
    "    random.shuffle(training_data)\n",
    "    return training_data\n",
    "    \n",
    "def xy_split(data):\n",
    "    X = []\n",
    "    y = []\n",
    "    for features, label in data:\n",
    "        X.append(features)\n",
    "        y.append(label)\n",
    "    X = np.array(X).reshape(-1, IMG_SIZE, IMG_SIZE, 1)\n",
    "    return X, y\n",
    "\n",
    "def xy_save(X, y):\n",
    "    pickle_out = open(\"X.pickle\", \"wb\")\n",
    "    pickle.dump(X, pickle_out)\n",
    "    pickle_out.close()\n",
    "\n",
    "    pickle_out = open(\"y.pickle\", \"wb\")\n",
    "    pickle.dump(y, pickle_out)\n",
    "    pickle_out.close()"
   ]
  },
  {
   "cell_type": "code",
   "execution_count": 2,
   "id": "precise-greece",
   "metadata": {},
   "outputs": [],
   "source": [
    "training_data = create_training_data()\n",
    "X, y = xy_split(training_data)\n",
    "xy_save(X, y)"
   ]
  },
  {
   "cell_type": "code",
   "execution_count": null,
   "id": "opponent-basis",
   "metadata": {},
   "outputs": [],
   "source": [
    "\n"
   ]
  },
  {
   "cell_type": "code",
   "execution_count": null,
   "id": "running-upper",
   "metadata": {},
   "outputs": [],
   "source": []
  },
  {
   "cell_type": "code",
   "execution_count": null,
   "id": "decimal-architect",
   "metadata": {},
   "outputs": [],
   "source": []
  },
  {
   "cell_type": "code",
   "execution_count": null,
   "id": "parliamentary-banana",
   "metadata": {},
   "outputs": [],
   "source": []
  }
 ],
 "metadata": {
  "kernelspec": {
   "display_name": "tf-bachelor",
   "language": "python",
   "name": "tf-bachelor"
  },
  "language_info": {
   "codemirror_mode": {
    "name": "ipython",
    "version": 3
   },
   "file_extension": ".py",
   "mimetype": "text/x-python",
   "name": "python",
   "nbconvert_exporter": "python",
   "pygments_lexer": "ipython3",
   "version": "3.8.5"
  }
 },
 "nbformat": 4,
 "nbformat_minor": 5
}
